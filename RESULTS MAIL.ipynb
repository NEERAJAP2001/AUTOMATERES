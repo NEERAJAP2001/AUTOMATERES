{
 "cells": [
  {
   "cell_type": "code",
   "execution_count": 76,
   "metadata": {},
   "outputs": [],
   "source": [
    "from selenium import webdriver\n",
    "from selenium.webdriver.support.ui import Select\n",
    "PATH='C:\\chromedriver.exe'"
   ]
  },
  {
   "cell_type": "code",
   "execution_count": 73,
   "metadata": {},
   "outputs": [],
   "source": [
    "\n",
    "\n",
    "driver=webdriver.Chrome(PATH)\n",
    "driver.get('https://login.gitam.edu/Login.aspx') ## can navigate to the website."
   ]
  },
  {
   "cell_type": "code",
   "execution_count": 74,
   "metadata": {},
   "outputs": [
    {
     "name": "stdout",
     "output_type": "stream",
     "text": [
      "3\n"
     ]
    }
   ],
   "source": [
    "\n",
    "driver.find_element_by_id(\"txtusername\").send_keys('<roll no.>')\n",
    "driver.find_element_by_id(\"password\").send_keys('<password>')\n",
    "driver.find_element_by_id('Submit').click()\n",
    "link=driver.find_element_by_link_text(\"Student portal\")\n",
    "link.click() ## clicking the link\n",
    "links=driver.find_element_by_link_text(\"Academic track\")\n",
    "links.click() ## clicking the link\n",
    "\n",
    "select = Select(driver.find_element_by_id(\"MainContent_ddlexternal\"))\n",
    "res=len(select.options)\n",
    "\n"
   ]
  },
  {
   "cell_type": "code",
   "execution_count": null,
   "metadata": {},
   "outputs": [],
   "source": [
    "sem=int(input('enter your semester : '))\n",
    "\n",
    "if (semm==(res-1)):\n",
    "    send_email()\n",
    "else:\n",
    "    print('NOPE YOUR SEMESTER RESULTS DID NOT COME..JUST CHILL!!')"
   ]
  },
  {
   "cell_type": "code",
   "execution_count": null,
   "metadata": {},
   "outputs": [],
   "source": [
    "def send_email():\n",
    "    server=smtplib.SMTP('smtp.gmail.com',587)\n",
    "    server.ehlo()\n",
    "    server.starttls()\n",
    "    server.ehlo()   \n",
    "    server.login('<email>','<password>')\n",
    "    subject='Demo project check'\n",
    "    body='Hello, Neeraj Ap this is an email from your bot , your results have come so please check...!!'\n",
    "    msg= f\"Subject:{subject}\\n\\n{body}\"\n",
    "    server.sendmail(\"bot@gmail.com\",\"abdfor360@gmail.com\",msg)\n",
    "    print(\"EMAIL HAS BEEN SENT..!! BRO YOUR RESULTS CAME...GO CHECK ASAP!!\")\n",
    "    server.quit()"
   ]
  }
 ],
 "metadata": {
  "kernelspec": {
   "display_name": "Python 3",
   "language": "python",
   "name": "python3"
  },
  "language_info": {
   "codemirror_mode": {
    "name": "ipython",
    "version": 3
   },
   "file_extension": ".py",
   "mimetype": "text/x-python",
   "name": "python",
   "nbconvert_exporter": "python",
   "pygments_lexer": "ipython3",
   "version": "3.7.4"
  }
 },
 "nbformat": 4,
 "nbformat_minor": 2
}
